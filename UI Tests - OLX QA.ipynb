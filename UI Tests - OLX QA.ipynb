{
 "cells": [
  {
   "cell_type": "markdown",
   "metadata": {},
   "source": [
    "## UI Tests"
   ]
  },
  {
   "cell_type": "code",
   "execution_count": null,
   "metadata": {},
   "outputs": [],
   "source": [
    "from selenium import webdriver\n",
    "from selenium.common.exceptions import NoSuchElementException\n",
    "\n",
    "from time import sleep\n",
    "import datetime as DT"
   ]
  },
  {
   "cell_type": "code",
   "execution_count": null,
   "metadata": {},
   "outputs": [],
   "source": [
    "browser = webdriver.Chrome(executable_path=\"C:/chromedriver\")"
   ]
  },
  {
   "cell_type": "markdown",
   "metadata": {},
   "source": [
    "## Generic functions used in test 1 and 3"
   ]
  },
  {
   "cell_type": "code",
   "execution_count": null,
   "metadata": {},
   "outputs": [],
   "source": [
    "# Location\n",
    "def setLocation(location):\n",
    "    input_location = browser.find_element_by_id('bigsearch-query-detached-query')\n",
    "    input_location.clear()\n",
    "    input_location.send_keys(location)\n",
    "\n",
    "    sleep(1)\n",
    "    # browser.find_element_by_id('bigsearch-query-detached-query').get_attribute('value')"
   ]
  },
  {
   "cell_type": "code",
   "execution_count": null,
   "metadata": {},
   "outputs": [],
   "source": [
    "# Check-In\n",
    "def setCheckInOut(in_date, out_date):\n",
    "    checkin_btn = browser.find_element_by_css_selector('[data-testid=\"structured-search-input-field-split-dates-0\"]')\n",
    "    checkin_btn.click()\n",
    "\n",
    "    sleep(3)\n",
    "\n",
    "    checkin_date = browser.find_element_by_css_selector('[data-testid=\"datepicker-day-' + str(in_date) + '\"]')\n",
    "    checkin_date.click()\n",
    "\n",
    "    checkout_date = browser.find_element_by_css_selector('[data-testid=\"datepicker-day-' + str(out_date) + '\"]')\n",
    "    checkout_date.click()"
   ]
  },
  {
   "cell_type": "code",
   "execution_count": null,
   "metadata": {},
   "outputs": [],
   "source": [
    "# Guests\n",
    "def setGuests(adults, children):\n",
    "    browser.find_element_by_css_selector('[data-testid=\"structured-search-input-field-guests-button\"]').click()\n",
    "\n",
    "    adults_plus_btn = browser.find_element_by_css_selector('[data-testid=\"stepper-adults-increase-button\"]')\n",
    "    \n",
    "    for i in range(adults):\n",
    "        adults_plus_btn.click()\n",
    "\n",
    "    child_plus_btn = browser.find_element_by_css_selector('[data-testid=\"stepper-children-increase-button\"]')\n",
    "    \n",
    "    for j in range(children):\n",
    "        child_plus_btn.click()"
   ]
  },
  {
   "cell_type": "code",
   "execution_count": null,
   "metadata": {},
   "outputs": [],
   "source": [
    "# Click Search Button\n",
    "def search():\n",
    "    search_btn = browser.find_element_by_css_selector('[data-testid=\"structured-search-input-search-button\"]')\n",
    "    search_btn.click()"
   ]
  },
  {
   "cell_type": "code",
   "execution_count": null,
   "metadata": {},
   "outputs": [],
   "source": [
    "# Verify filters\n",
    "def verify_filters(location_city, nbr_guests, in_date, out_date):\n",
    "    # Location\n",
    "    filter_location = browser.find_element_by_xpath(\"//button[@data-index='0']/div[@class='_1g5ss3l']\")\n",
    "    if (filter_location.text != location_city):\n",
    "        print('Location is incorrect')\n",
    "\n",
    "    # Date\n",
    "    filter_date = browser.find_element_by_xpath(\"//button[@data-index='1']/div[@class='_1g5ss3l']\")\n",
    "    if (in_date.month == out_date.month):\n",
    "        str_date = in_date.strftime(\"%b\") + ' ' + str(in_date.day) + ' – ' + str(out_date.day)\n",
    "    else: \n",
    "        str_date = in_date.strftime(\"%b\") + ' ' + str(in_date.day) + ' – ' + in_date.strftime(\"%b\") + ' ' + str(out_date.day)\n",
    "\n",
    "    if (filter_date.text != str_date):\n",
    "        print('Dates are incorrect')\n",
    "\n",
    "    # Guests\n",
    "    filter_guests = browser.find_element_by_xpath(\"//button[@data-index='2']/div[@class='_1g5ss3l']\")\n",
    "    if (int(filter_guests.text.split(' · ')[0].replace(' guests', '')) != nbr_guests):\n",
    "        print('Number of guests is incorrect')"
   ]
  },
  {
   "cell_type": "code",
   "execution_count": null,
   "metadata": {},
   "outputs": [],
   "source": [
    "# Verify that the properties displayed on the first page can accommodate at least the selected number of guests\n",
    "def verify_guests(nbr_guests):\n",
    "    rooms = browser.find_elements_by_xpath(\"//div[@class='_kqh46o']\")\n",
    "    i = 0\n",
    "    for room in rooms:\n",
    "        if i%2 == 0:\n",
    "            if (int(room.text.split(' · ')[0].replace(' guests', '')) < nbr_guests):\n",
    "                print('Number of guests is incorrect')\n",
    "        i = i+1"
   ]
  },
  {
   "cell_type": "markdown",
   "metadata": {},
   "source": [
    "### End of functions"
   ]
  },
  {
   "cell_type": "markdown",
   "metadata": {},
   "source": [
    "## Test 1: Verify that the results match the search criteria"
   ]
  },
  {
   "cell_type": "code",
   "execution_count": null,
   "metadata": {},
   "outputs": [],
   "source": [
    "browser.get('https://www.airbnb.com/')\n",
    "sleep(3)\n",
    "\n",
    "location = 'Rome, Italy'\n",
    "location_city = 'Rome'\n",
    "adults = 2\n",
    "children = 1\n",
    "\n",
    "today = DT.date.today()\n",
    "in_date = today + DT.timedelta(days=7)\n",
    "out_date = in_date + DT.timedelta(days=7)\n",
    "    \n",
    "setLocation(location)\n",
    "setCheckInOut(in_date, out_date)\n",
    "setGuests(adults, children)\n",
    "\n",
    "search()\n",
    "sleep(4)\n",
    "\n",
    "verify_filters(location_city, adults+children, in_date, out_date)\n",
    "verify_guests(adults+children)"
   ]
  },
  {
   "cell_type": "markdown",
   "metadata": {},
   "source": [
    "## Test 2: Verify that the results and details page match the extra filters"
   ]
  },
  {
   "cell_type": "code",
   "execution_count": null,
   "metadata": {},
   "outputs": [],
   "source": [
    "# Add extra filters : Bedrooms + Pool\n",
    "\n",
    "# The problem here is that the buttons depends on the screen size\n",
    "# Sometimes the add bedrooms buttons is next the More filters button\n",
    "# Sometimes it is in the More Filter Popup\n",
    "\n",
    "more_filters_btn = browser.find_element_by_xpath(\"//div[@id='menuItemButton-dynamicMoreFilters']/button[@class='_t6p96s']\")\n",
    "\n",
    "try:\n",
    "    bedrooms_btn = browser.find_elements_by_xpath(\"//div[@id='menuItemButton-rooms_and_beds']/button[@class='_t6p96s']\")\n",
    "except NoSuchElementException:\n",
    "    pass\n",
    "\n",
    "if (len(bedrooms_btn) > 0):\n",
    "    bedrooms_btn = bedrooms_btn[0]\n",
    "    bedrooms_btn.click()\n",
    "    \n",
    "    add_bedrooms = browser.find_element_by_css_selector('[data-testid=\"filterItem-rooms_and_beds-stepper-min_bedrooms-0-increase-button\"]')\n",
    "\n",
    "    for i in range(5):\n",
    "        add_bedrooms.click()\n",
    "\n",
    "    more_filters_btn.click()\n",
    "\n",
    "else:\n",
    "    more_filters_btn.click()\n",
    "    \n",
    "    add_bedrooms = browser.find_element_by_css_selector('[data-testid=\"filterItem-rooms_and_beds-stepper-min_bedrooms-0-increase-button\"]')\n",
    "    \n",
    "    for i in range(5):\n",
    "        add_bedrooms.click()\n",
    "\n",
    "sleep(2)\n",
    "pool_btn = browser.find_element_by_css_selector('[name=\"Pool\"]').click()\n",
    "\n",
    "browser.find_element_by_css_selector('[data-testid=\"more-filters-modal-submit-button\"]').click()\n",
    "\n",
    "sleep(3)"
   ]
  },
  {
   "cell_type": "code",
   "execution_count": null,
   "metadata": {},
   "outputs": [],
   "source": [
    "# Verify that the properties displayed on the first page have at least the number of selected bedroom.\n",
    "rooms = browser.find_elements_by_xpath(\"//div[@class='_kqh46o']\")\n",
    "i = 0\n",
    "for room in rooms:\n",
    "    if i%2 == 0:\n",
    "        nbr_bedrooms = room.text.split(' · ')[1].replace(' bedrooms', '')\n",
    "        if (int(nbr_bedrooms) < 5):\n",
    "            print(nbr_bedrooms)\n",
    "            print('Number of bedrooms is incorrect')\n",
    "    i = i+1"
   ]
  },
  {
   "cell_type": "code",
   "execution_count": null,
   "metadata": {},
   "outputs": [],
   "source": [
    "# Open the details of the first property.\n",
    "browser.find_elements_by_xpath(\"//div[@class='_8s3ctt']\")[0].click()\n",
    "sleep(3)\n",
    "\n",
    "#get current window handle\n",
    "p = browser.current_window_handle\n",
    "\n",
    "#get child windows\n",
    "chwd = browser.window_handles\n",
    "for w in chwd:\n",
    "    #switch focus to child window\n",
    "    if(w!=p):\n",
    "        browser.switch_to.window(w)\n",
    "        break\n",
    "\n",
    "sleep(4)"
   ]
  },
  {
   "cell_type": "code",
   "execution_count": null,
   "metadata": {},
   "outputs": [],
   "source": [
    "# Couldn't find facilites section -- It's Amenities\n",
    "amenities_div = browser.find_element_by_xpath(\"//div[@data-section-id='AMENITIES_DEFAULT']\")\n",
    "pool = amenities_div.find_elements_by_xpath(\"//*[contains(text(), 'Pool')]\")\n",
    "\n",
    "if (len(pool) == 0):\n",
    "    print(\"Pool not found\")"
   ]
  },
  {
   "cell_type": "markdown",
   "metadata": {},
   "source": [
    "## Test 3: Verify that a property is displayed on the map correctly"
   ]
  },
  {
   "cell_type": "code",
   "execution_count": null,
   "metadata": {},
   "outputs": [],
   "source": [
    "browser.get('https://www.airbnb.com/')\n",
    "sleep(3)\n",
    "\n",
    "location = 'Rome, Italy'\n",
    "location_city = 'Rome'\n",
    "adults = 2\n",
    "children = 1\n",
    "\n",
    "today = DT.date.today()\n",
    "in_date = today + DT.timedelta(days=7)\n",
    "out_date = in_date + DT.timedelta(days=7)\n",
    "    \n",
    "setLocation(location)\n",
    "setCheckInOut(in_date, out_date)\n",
    "setGuests(adults, children)\n",
    "\n",
    "search()\n",
    "sleep(4)"
   ]
  },
  {
   "cell_type": "code",
   "execution_count": null,
   "metadata": {},
   "outputs": [],
   "source": [
    "from selenium.webdriver.common.action_chains import ActionChains\n",
    "\n",
    "first_element = browser.find_element_by_xpath(\"//div[@class='_8s3ctt']\")\n",
    "first_element_title = first_element.find_elements_by_tag_name(\"a\")[0].get_attribute('aria-label')\n",
    "first_element_price = first_element.find_elements_by_class_name('_1p7iugi')[0].text\n",
    "\n",
    "print(first_element_price)\n",
    "# get the price : sometimes the discounted price is added, we should take that into consideration\n",
    "price = first_element_price.replace('Price:', '')\n",
    "price = price.replace('Previous price:', '')\n",
    "\n",
    "price = price.split('Discounted price:', 1)\n",
    "\n",
    "if (len(price) > 1):\n",
    "    price = price[1].strip()\n",
    "else:\n",
    "    price = price[0].strip()\n",
    "\n",
    "print(price)\n",
    "\n",
    "hover = ActionChains(browser).move_to_element(first_element)\n",
    "hover.perform()\n",
    "\n",
    "sleep(2)\n",
    "\n",
    "# Because there's no ids, no classes, nothing specific to differentiate the price tags on the map, \n",
    "# I had to use the title and price defined in aria-label of the price tag button\n",
    "# button > div > div_color\n",
    "on_map_tag = browser.find_element_by_xpath(\"//button[@aria-label=' \" + first_element_title + \" \" + price + \"']\")\n",
    "div_color = on_map_tag.find_elements_by_tag_name('div')[1] #the second div is the one that changes style \n",
    "\n",
    "if (div_color.value_of_css_property('background-color') != 'rgba(34, 34, 34, 1)'):\n",
    "    print(\"Price on map did not change color on hover\")\n",
    "    \n",
    "on_map_tag.click()"
   ]
  },
  {
   "cell_type": "code",
   "execution_count": null,
   "metadata": {},
   "outputs": [],
   "source": [
    "try:\n",
    "    popup_title = browser.find_elements_by_xpath(\"//div[@class='_5y5rgc']/a[@aria-label='\" + first_element_title  + \"']\")\n",
    "except NoSuchElementException:\n",
    "    print(\"Title in details popup is not identical to the search result\")"
   ]
  },
  {
   "cell_type": "code",
   "execution_count": null,
   "metadata": {},
   "outputs": [],
   "source": []
  }
 ],
 "metadata": {
  "kernelspec": {
   "display_name": "Python 3",
   "language": "python",
   "name": "python3"
  },
  "language_info": {
   "codemirror_mode": {
    "name": "ipython",
    "version": 3
   },
   "file_extension": ".py",
   "mimetype": "text/x-python",
   "name": "python",
   "nbconvert_exporter": "python",
   "pygments_lexer": "ipython3",
   "version": "3.8.5"
  }
 },
 "nbformat": 4,
 "nbformat_minor": 4
}
